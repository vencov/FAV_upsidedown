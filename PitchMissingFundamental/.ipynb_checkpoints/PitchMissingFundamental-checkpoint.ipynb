{
 "cells": [
  {
   "cell_type": "markdown",
   "id": "9c8aa356",
   "metadata": {},
   "source": [
    "# Pitch of missing fundamental\n",
    "\n"
   ]
  },
  {
   "cell_type": "code",
   "execution_count": 34,
   "id": "eba88c18",
   "metadata": {},
   "outputs": [
    {
     "data": {
      "application/vnd.jupyter.widget-view+json": {
       "model_id": "97b959324caa42ef84d2b0f156f90041",
       "version_major": 2,
       "version_minor": 0
      },
      "text/plain": [
       "interactive(children=(FloatSlider(value=1.0, description='P1', max=1.0, step=0.05), FloatSlider(value=1.0, des…"
      ]
     },
     "metadata": {},
     "output_type": "display_data"
    },
    {
     "data": {
      "text/plain": [
       "<function __main__.update_Amplitude(P1=1, P2=2, P3=3, P4=4, P5=5, P6=6, P7=7)>"
      ]
     },
     "execution_count": 34,
     "metadata": {},
     "output_type": "execute_result"
    }
   ],
   "source": [
    "import numpy as np\n",
    "import matplotlib.pyplot as plt\n",
    "import ipywidgets as widgets\n",
    "import IPython.display as ipd\n",
    "\n",
    "Tmax = 300e-3 # duration of the signal\n",
    "F0 = 100 # fundamental frequency of the complex tone\n",
    "N = 7 # number of partials\n",
    "fs = 44.1e3 # sampling frequency\n",
    "t = np.linspace(0,Tmax,Nmax)\n",
    "\n",
    "def gencmplxsignal(F0,A,N,t,Tmax):  \n",
    "    '''\n",
    "    generate a harmonic complex tone with N partials, F0 fundamental freq and A a vector of amplitudes\n",
    "    '''\n",
    "    Nmax = int(np.round(Tmax*fs)) # number of samples in the signal\n",
    "    \n",
    "    cmplxsignal = 0\n",
    "    for i in range(1,N):\n",
    "        cmplxsignal += A[i]*np.sin(2*np.pi*F0*i*t)\n",
    "    \n",
    "    return cmplxsignal\n",
    "    \n",
    "def update_Amplitude(P1=1,P2=2,P3=3,P4=4,P5=5,P6=6,P7=7):\n",
    "    global signal    \n",
    "    A = [P1, P2, P3, P4, P5, P6, P7]\n",
    "    signal = gencmplxsignal(F0,A,N,t,Tmax)\n",
    "    \n",
    "        \n",
    "    fig, ax = plt.subplots(figsize=(13, 6))\n",
    "    ax.set_xlabel('time (seconds)')\n",
    "    ax.set_ylabel('Amplitude')\n",
    "     \n",
    "    ax.plot(t,signal, lw=3, c='r')\n",
    "    \n",
    "    ipd.display(ipd.Audio(signal, rate=fs))\n",
    "    \n",
    "    \n",
    "\n",
    "\n",
    "widgets.interact(update_Amplitude, P1=(0, 1, 0.05), P2=(0, 1, 0.05), P3=(0, 1, 0.05), P4=(0, 1, 0.05), P5=(0, 1, 0.05), P6=(0, 1, 0.05), P7=(0, 1, 0.05))\n",
    "\n",
    "\n",
    "\n",
    "\n",
    "\n"
   ]
  },
  {
   "cell_type": "code",
   "execution_count": 28,
   "id": "7452b0e9",
   "metadata": {
    "collapsed": true,
    "jupyter": {
     "outputs_hidden": true,
     "source_hidden": true
    },
    "tags": []
   },
   "outputs": [
    {
     "data": {
      "text/html": [
       "\n",
       "                <audio  controls=\"controls\" >\n",
       "                    <source src=\"data:audio/wav;base64,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\" type=\"audio/wav\" />\n",
       "                    Your browser does not support the audio element.\n",
       "                </audio>\n",
       "              "
      ],
      "text/plain": [
       "<IPython.lib.display.Audio object>"
      ]
     },
     "execution_count": 28,
     "metadata": {},
     "output_type": "execute_result"
    }
   ],
   "source": [
    "ipd.Audio(signal, rate=fs)"
   ]
  },
  {
   "cell_type": "code",
   "execution_count": null,
   "id": "cf73fae3",
   "metadata": {},
   "outputs": [],
   "source": []
  }
 ],
 "metadata": {
  "kernelspec": {
   "display_name": "Python 3",
   "language": "python",
   "name": "python3"
  },
  "language_info": {
   "codemirror_mode": {
    "name": "ipython",
    "version": 3
   },
   "file_extension": ".py",
   "mimetype": "text/x-python",
   "name": "python",
   "nbconvert_exporter": "python",
   "pygments_lexer": "ipython3",
   "version": "3.8.5"
  }
 },
 "nbformat": 4,
 "nbformat_minor": 5
}
