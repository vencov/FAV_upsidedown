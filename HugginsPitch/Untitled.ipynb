{
 "cells": [
  {
   "cell_type": "markdown",
   "id": "06f4bdeb",
   "metadata": {},
   "source": [
    "# [Huggins pitch](https://en.wikipedia.org/wiki/Dichotic_pitch)"
   ]
  },
  {
   "cell_type": "code",
   "execution_count": null,
   "id": "93442b5a",
   "metadata": {},
   "outputs": [],
   "source": [
    "'''\n",
    "c = 0.03; %constant used in pole radius calculation\n",
    "    r = 1 - ((c*pi*freq)/sr); %Radius of poles from the origin\n",
    "    b = [(r.^2); -2*r.*cos(2*pi*freq./sr); ones(1,size(freq,2))]; %zeros of all pass filter\n",
    "    a = flipud(b); %poles are symmetric with corresponding zeros around the unit circle\n",
    "    OP(:,1) = randn(sr*dur,1);\n",
    "    OP(:,2) = OP(:,1);\n",
    "    for n = 1:size(freq,2)\n",
    "        OP(:,2) = filter(b(:,n),a(:,n),OP(:,2));\n",
    "        %freqz(b(:,n), a(:,n), 512, sr); hold on %UNCOMMENT TO SEE PHASE SHIFTS\n",
    "    end\n",
    "'''\n",
    "\n",
    "import numpy as np\n",
    "\n",
    "Tdur = 4 # noise duration (seconds)\n",
    "fs = 44100 # sample rate (Hz)\n",
    "np.linspace(0,Tdur,)\n"
   ]
  }
 ],
 "metadata": {
  "kernelspec": {
   "display_name": "Python 3",
   "language": "python",
   "name": "python3"
  },
  "language_info": {
   "codemirror_mode": {
    "name": "ipython",
    "version": 3
   },
   "file_extension": ".py",
   "mimetype": "text/x-python",
   "name": "python",
   "nbconvert_exporter": "python",
   "pygments_lexer": "ipython3",
   "version": "3.8.5"
  }
 },
 "nbformat": 4,
 "nbformat_minor": 5
}
