{
 "cells": [
  {
   "cell_type": "code",
   "execution_count": 74,
   "id": "d621cfcd",
   "metadata": {},
   "outputs": [
    {
     "data": {
      "application/vnd.jupyter.widget-view+json": {
       "model_id": "e922ea16606248feb15f7cf8043c0cb3",
       "version_major": 2,
       "version_minor": 0
      },
      "text/plain": [
       "interactive(children=(IntSlider(value=0, description='phase diff', max=180, step=10), IntSlider(value=-50, des…"
      ]
     },
     "metadata": {},
     "output_type": "display_data"
    },
    {
     "data": {
      "text/plain": [
       "<function __main__.update_signal(ipd1, Lt)>"
      ]
     },
     "execution_count": 74,
     "metadata": {},
     "output_type": "execute_result"
    }
   ],
   "source": [
    "# binaural masking level difference\n",
    "# use headphones, first set VOLUME DOWN!!! DO NOT HURT YOUR EARS!!!\n",
    "# the slider \"level\" sets the level of the tone\n",
    "# the slider \"phase diff\" sets the phase difference between the tone in the left and right ear\n",
    "# set the slider \"phase diff\" to zero and adjust the tone level until the tone is masked by noise\n",
    "# then shift the slider \"phase diff\" to 180 deg. and play the tone again\n",
    "# if the tone was just masked for 0 phase diff, it should be unmasked if the phase diff is 180 deg.\n",
    "\n",
    "\n",
    "import numpy as np\n",
    "from scipy import signal\n",
    "import matplotlib.pyplot as plt\n",
    "import IPython.display as ipd   \n",
    "import ipywidgets as widgets\n",
    "\n",
    "\n",
    "Tdur = 3 # noise duration (seconds)\n",
    "fs = 44100 # sample rate (Hz)\n",
    "dt = 1/fs  # time step\n",
    "tx = np.arange(0,Tdur,dt)  # time axis\n",
    "freq = 0.5e3 # frequency of the tone\n",
    "nsamp = len(tx)\n",
    "amp = 0.01 # amplitude of the noise\n",
    "noise = amp*np.random.normal(0,1,nsamp) # broad band noise\n",
    "\n",
    "# make a low pass filter up to 10 kHz to make the noise less annoying \n",
    "cutoff = 5e3 # cutoff frequency\n",
    "normalCutoff = cutoff / (fs/2)\n",
    "order = 15\n",
    "bLP, aLP = signal.butter(order, normalCutoff, btype='low')\n",
    "\n",
    "fnoise = signal.lfilter(bLP, aLP, noise)\n",
    "\n",
    "\n",
    "#ipd.display(ipd.Audio(hpitch, rate=fs))\n",
    "\n",
    "\n",
    "#fig, ax = plt.subplots(figsize=(13, 6))\n",
    "#ax.set_xlabel('time')\n",
    "#ax.set_ylabel('amplitude')\n",
    "     \n",
    "#ax.plot(tx, amp*noise, lw=3, c='r')\n",
    "#tone = gen_tone(amp,1e3,tx,0)\n",
    "#ax.plot(tx, tone, lw=3, c='r')\n",
    "\n",
    "def gen_tone(amp,freq,tx,phase):\n",
    "    '''generate tone '''\n",
    "    \n",
    "    tone = amp*np.sin(2*np.pi*freq*tx + phase)\n",
    "    # make a ramp (fade in fade out)\n",
    "    Rdur = 50e-3  # ramp duration\n",
    "    x = np.arange(0,Rdur,tx[1]-tx[0])\n",
    "    x = np.pi*x/Rdur\n",
    "    rampUp = (1 + np.cos(x + np.pi))/2; # raised cosine onset\n",
    "    rampDown = np.flip(rampUp)\n",
    "    \n",
    "    wholeramp = np.concatenate((rampUp, np.ones(len(tone)-2*len(x)), rampDown))\n",
    "    \n",
    "    tone = wholeramp*tone\n",
    "\n",
    "    \n",
    "    return tone\n",
    "\n",
    "def update_signal(ipd1,Lt):\n",
    "    \n",
    "    ampt = 10**(Lt/20)\n",
    "    \n",
    "    tone_l = gen_tone(ampt,freq,tx,0)\n",
    "    tone_r = gen_tone(ampt,freq,tx,ipd1/180*np.pi)\n",
    "    signal_l = tone_l + fnoise\n",
    "    signal_r = tone_r + fnoise\n",
    "    signal = [signal_l, signal_r]  # pitch sensation\n",
    "    \n",
    "    #fig, ax = plt.subplots(figsize=(13, 6))\n",
    "    #ax.set_xlabel('time (seconds)')\n",
    "    #ax.set_ylabel('Amplitude')\n",
    "     \n",
    "    #ax.plot(tx,signal, lw=3, c='r')\n",
    "    \n",
    "    ipd.display(ipd.Audio(signal, rate=fs,normalize=False))\n",
    "    \n",
    "    \n",
    "\n",
    "c_slide = widgets.IntSlider(min=0,max=180,step=10,description='phase diff')\n",
    "s_slide = widgets.IntSlider(min=-80,max=-50,step=1,description='level')\n",
    "\n",
    "widgets.interact(update_signal, ipd1=c_slide, Lt=s_slide)\n",
    "\n",
    "\n",
    "\n",
    "\n",
    "\n",
    "\n",
    "       \n"
   ]
  },
  {
   "cell_type": "code",
   "execution_count": null,
   "id": "b17e2405",
   "metadata": {},
   "outputs": [],
   "source": []
  }
 ],
 "metadata": {
  "kernelspec": {
   "display_name": "Python 3 (ipykernel)",
   "language": "python",
   "name": "python3"
  },
  "language_info": {
   "codemirror_mode": {
    "name": "ipython",
    "version": 3
   },
   "file_extension": ".py",
   "mimetype": "text/x-python",
   "name": "python",
   "nbconvert_exporter": "python",
   "pygments_lexer": "ipython3",
   "version": "3.8.13"
  }
 },
 "nbformat": 4,
 "nbformat_minor": 5
}
