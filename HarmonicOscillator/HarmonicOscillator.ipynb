{
 "cells": [
  {
   "cell_type": "markdown",
   "id": "8f82eb8a",
   "metadata": {},
   "source": [
    "# Harmonic oscillator"
   ]
  },
  {
   "cell_type": "code",
   "execution_count": 3,
   "id": "716608b5",
   "metadata": {},
   "outputs": [
    {
     "data": {
      "application/vnd.jupyter.widget-view+json": {
       "model_id": "23fddef38ce64f85bc5ef468b0a65809",
       "version_major": 2,
       "version_minor": 0
      },
      "text/plain": [
       "interactive(children=(FloatSlider(value=0.0, description='mu', max=2.0), Output()), _dom_classes=('widget-inte…"
      ]
     },
     "metadata": {},
     "output_type": "display_data"
    },
    {
     "data": {
      "text/plain": [
       "<function __main__.update_mu(mu=0)>"
      ]
     },
     "execution_count": 3,
     "metadata": {},
     "output_type": "execute_result"
    }
   ],
   "source": [
    "# Harmonic oscillator\n",
    "\n",
    "import numpy as np\n",
    "from scipy.integrate import odeint\n",
    "import matplotlib.pyplot as plt\n",
    "import ipywidgets as widgets\n",
    "\n",
    "\n",
    "def HOfunction(y, t, mu, m, k, A, wr):\n",
    "    return (y[1], -(mu/m)*y[1] - (k/m)*y[0] + (A/m)*np.sin(wr*t)) \n",
    "\n",
    "\n",
    "def update_mu(mu=0):\n",
    "    \n",
    "    # parametery\n",
    "    k = 1.0    # stiffness [N m]\n",
    "    m = 1.0    # mass [kg]\n",
    "    fD = 1.0*np.sqrt(k/m)/(2*np.pi)  # freq. (Hz) [expressed as fraction of resonant freq.]\n",
    "    A = 0.00\n",
    "    wr = 2*np.pi*fD\n",
    "\n",
    "    # integration limits\n",
    "    t0 = 0.0;   # Start value\n",
    "    tf = 100.0   # Finish value\n",
    "    dt = 0.01  # time step\n",
    "\n",
    "    t = np.arange(t0,tf,dt)\n",
    "\n",
    "    y0 = [0.1,0] # definitio\n",
    "    ys = odeint(HOfunction, y0, t, args=(mu, m, k, A, wr))\n",
    "    \n",
    "    fig, ax = plt.subplots(figsize=(13, 6))\n",
    "    ax.set_xlabel('x')\n",
    "    ax.set_ylabel('dx/dt')\n",
    "     \n",
    "    ax.plot(ys[:,0], ys[:,1], lw=3, c='r')\n",
    "        \n",
    "    fig, ax = plt.subplots(figsize=(13, 6))\n",
    "    ax.set_xlabel('time')\n",
    "    ax.set_ylabel('x')\n",
    "     \n",
    "    ax.plot(t, ys[:,0], lw=3, c='r')\n",
    "    plt.show()\n",
    "\n",
    "    fig.canvas.draw()\n",
    "\n",
    "widgets.interact(update_mu, mu=(0, 2, 0.1))\n",
    "\n"
   ]
  },
  {
   "cell_type": "code",
   "execution_count": null,
   "id": "77e0cb38",
   "metadata": {},
   "outputs": [],
   "source": [
    "# draw frequency characteristics\n",
    "\n"
   ]
  }
 ],
 "metadata": {
  "kernelspec": {
   "display_name": "Python 3",
   "language": "python",
   "name": "python3"
  },
  "language_info": {
   "codemirror_mode": {
    "name": "ipython",
    "version": 3
   },
   "file_extension": ".py",
   "mimetype": "text/x-python",
   "name": "python",
   "nbconvert_exporter": "python",
   "pygments_lexer": "ipython3",
   "version": "3.8.5"
  }
 },
 "nbformat": 4,
 "nbformat_minor": 5
}
