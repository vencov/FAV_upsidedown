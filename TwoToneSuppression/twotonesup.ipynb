{
 "cells": [
  {
   "cell_type": "code",
   "execution_count": 1,
   "id": "812c5d3c",
   "metadata": {},
   "outputs": [
    {
     "data": {
      "application/vnd.jupyter.widget-view+json": {
       "model_id": "387a961990914c6bbab26c2b09133252",
       "version_major": 2,
       "version_minor": 0
      },
      "text/plain": [
       "interactive(children=(IntSlider(value=-90, description='L1', max=0, min=-100, step=5), IntSlider(value=-90, de…"
      ]
     },
     "metadata": {},
     "output_type": "display_data"
    },
    {
     "data": {
      "image/png": "[encoded data removed]",
      "text/plain": [
       "<Figure size 432x288 with 1 Axes>"
      ]
     },
     "metadata": {
      "needs_background": "light"
     },
     "output_type": "display_data"
    }
   ],
   "source": [
    "import ipywidgets as widgets\n",
    "import numpy as np\n",
    "import matplotlib.pyplot as plt\n",
    "%matplotlib inline  \n",
    "\n",
    "\n",
    "def sigmoid(Y):\n",
    "# sigmoidal nonlinearity (assumed to simulate conductivity of mechanoelektrical transduction channels)    \n",
    "# probably represents a dominant nonlinearity in the auditory system at moderate to high levels\n",
    "\n",
    "    y1=0.01139\n",
    "    y2=0.03736\n",
    "    c1=0.7293\n",
    "    c2=1.4974\n",
    "    b=0.30991\n",
    "\n",
    "    \n",
    "    Z = 1/(1+c1*np.exp(-Y/y1)+c2*np.exp(-Y/y2))-b\n",
    "    \n",
    "    return Z\n",
    "\n",
    "    \n",
    "f1 = 2000  # Hz\n",
    "f2 = 2200  # Hz\n",
    "fs = 10e3  # sampling freq\n",
    "t = np.linspace(0, (1000-1)*1/fs, 1000)\n",
    "\n",
    "# plot spectrum\n",
    "fx = np.arange(0,len(t))*fs/len(t) # frequency axis\n",
    "\n",
    "'''\n",
    "fig, ax1 = plt.subplots()\n",
    "ax1 = plt.plot(t,tone1)\n",
    "\n",
    "\n",
    "fig, ax2 = plt.subplots()\n",
    "ax2.plot(fx,np.abs(np.fft.fft(tone1)))\n",
    "ax2.set_xlabel('Frequency (HZ)')\n",
    "ax2.set_ylabel('Amplitude (-)')\n",
    "ax2.set_xlim(0,fs/2)\n",
    "'''\n",
    "\n",
    "def process_nonlin(L1=-90, L2=-90):\n",
    "    \n",
    "    tone1 = np.sqrt(2)*10**(L1/20) * np.sin(2*np.pi*f1*t)\n",
    "    tone2 = np.sqrt(2)*10**(L2/20) * np.sin(2*np.pi*f2*t)\n",
    "    \n",
    "    output = sigmoid(tone1 + tone2)\n",
    "    \n",
    "    fig, ax3 = plt.subplots()\n",
    "    ax3.plot(fx, 20*np.log10(np.sqrt(2)*np.abs(np.fft.fft(output))/len(output)))\n",
    "    ax3.set_xlabel('Frequency (Hz)')\n",
    "    ax3.set_ylabel('Amplitude (dB re 1)')\n",
    "    ax3.set_xlim(0,fs/2)\n",
    "    ax3.set_ylim(-100,0)\n",
    "    plt.show()\n",
    "\n",
    "    fig.canvas.draw()\n",
    "\n",
    "\n",
    "widgets.interact(process_nonlin, L1=(-100, 0, 5), L2 = (-100, 0, 5))    \n",
    "\n",
    "x = np.linspace(-3e-1,3e-1,1024)\n",
    "fig, ax1 = plt.subplots()\n",
    "plt.plot(x,sigmoid(x))\n",
    "ax1.set_xlabel('x')\n",
    "ax1.set_ylabel('S(x)')\n",
    "plt.show()"
   ]
  },
  {
   "cell_type": "code",
   "execution_count": null,
   "id": "4cce21a1",
   "metadata": {},
   "outputs": [],
   "source": []
  }
 ],
 "metadata": {
  "kernelspec": {
   "display_name": "Python 3 (ipykernel)",
   "language": "python",
   "name": "python3"
  },
  "language_info": {
   "codemirror_mode": {
    "name": "ipython",
    "version": 3
   },
   "file_extension": ".py",
   "mimetype": "text/x-python",
   "name": "python",
   "nbconvert_exporter": "python",
   "pygments_lexer": "ipython3",
   "version": "3.8.5"
  }
 },
 "nbformat": 4,
 "nbformat_minor": 5
}
