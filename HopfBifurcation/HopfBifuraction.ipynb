{
 "cells": [
  {
   "cell_type": "code",
   "execution_count": 2,
   "id": "0800f8f2",
   "metadata": {},
   "outputs": [
    {
     "data": {
      "application/vnd.jupyter.widget-view+json": {
       "model_id": "7c57442c4eeb435290d75f2d106850b8",
       "version_major": 2,
       "version_minor": 0
      },
      "text/plain": [
       "interactive(children=(FloatSlider(value=0.0, description='mu', max=2.0, min=-2.0), IntSlider(value=0, descript…"
      ]
     },
     "metadata": {},
     "output_type": "display_data"
    },
    {
     "data": {
      "text/plain": [
       "'\\nb = 1.\\nomega0 = 1.\\nmu = -0.9\\n\\nxy0 = [0, 1.4]\\nxy = odeint(Hopf, xy0, t, args=(mu, omega0, b))\\n\\nfig, ax = plt.subplots()\\nplt.plot(xy[:,0],xy[:,1])\\nax.axis(ymin=-3, ymax=3)\\nax.axis(xmin=-3, xmax=3)\\n'"
      ]
     },
     "execution_count": 2,
     "metadata": {},
     "output_type": "execute_result"
    }
   ],
   "source": [
    "import numpy as np\n",
    "from scipy.integrate import odeint\n",
    "import matplotlib.pyplot as plt\n",
    "import ipywidgets as widgets\n",
    "\n",
    "\n",
    "\n",
    "def Hopf(xy, t, mu, omega0, b):\n",
    "    #dzdt  = (mu + 1j*omega0)*z + b*np.abs(z)**2*z\n",
    "    dxdt = mu*xy[0] - omega0*xy[1] + b*xy[0]*(xy[0]**2 + xy[1]**2)\n",
    "    dydt = mu*xy[1] + omega0*xy[0] + b*xy[1]*(xy[0]**2 + xy[1]**2)\n",
    "    \n",
    "    return [dxdt, dydt]\n",
    "\n",
    "\n",
    "def update_mu_b(mu=0, b=0):\n",
    "    \n",
    "  \n",
    "    # integration limits\n",
    "    t0 = 0.0;   # Start value\n",
    "    tf = 100.0   # Finish value\n",
    "    dt = 0.01  # time step\n",
    "\n",
    "    t = np.arange(t0,tf,dt)\n",
    "\n",
    "    \n",
    "    omega0 = 1.\n",
    "        \n",
    "    \n",
    "    #ys = odeint(VDPfunction, y0, t, args=(mu, m, k, A, wr))\n",
    "    xy0 = [0.01, 0]\n",
    "    xy = odeint(Hopf, xy0, t, args=(mu, omega0, b))\n",
    "    \n",
    "    \n",
    "    fig, ax = plt.subplots(figsize=(13, 6))\n",
    "    ax.set_xlabel('x')\n",
    "    ax.set_ylabel('y')\n",
    "     \n",
    "    ax.plot(xy[:,0], xy[:,1], lw=3, c='r')\n",
    "    \n",
    "    fig, ax = plt.subplots(figsize=(13, 6))\n",
    "    ax.set_xlabel('x')\n",
    "    ax.set_ylabel('time')\n",
    "     \n",
    "    ax.plot(t, xy[:,0], lw=3, c='r')\n",
    "    \n",
    "    plt.show()\n",
    "\n",
    "    fig.canvas.draw()\n",
    "    \n",
    "    \n",
    "    \n",
    "    \n",
    "    #plt.title('Počet krokov: {:d}{}Vypočítaná plocha: {:.5f}'.format(n - 1, 10 * ' ', area), fontdict={'fontsize': 25})\n",
    "\n",
    "   \n",
    "\n",
    "widgets.interact(update_mu_b, mu=(-2, 2, 0.1),b=(-1, 1, 1));\n",
    "\n",
    "'''\n",
    "b = 1.\n",
    "omega0 = 1.\n",
    "mu = -0.9\n",
    "\n",
    "xy0 = [0, 1.4]\n",
    "xy = odeint(Hopf, xy0, t, args=(mu, omega0, b))\n",
    "\n",
    "fig, ax = plt.subplots()\n",
    "plt.plot(xy[:,0],xy[:,1])\n",
    "ax.axis(ymin=-3, ymax=3)\n",
    "ax.axis(xmin=-3, xmax=3)\n",
    "'''"
   ]
  },
  {
   "cell_type": "code",
   "execution_count": null,
   "id": "0e5a5e57",
   "metadata": {},
   "outputs": [],
   "source": []
  }
 ],
 "metadata": {
  "kernelspec": {
   "display_name": "Python 3 (ipykernel)",
   "language": "python",
   "name": "python3"
  },
  "language_info": {
   "codemirror_mode": {
    "name": "ipython",
    "version": 3
   },
   "file_extension": ".py",
   "mimetype": "text/x-python",
   "name": "python",
   "nbconvert_exporter": "python",
   "pygments_lexer": "ipython3",
   "version": "3.8.5"
  }
 },
 "nbformat": 4,
 "nbformat_minor": 5
}
